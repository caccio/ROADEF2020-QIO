{
 "cells": [
  {
   "cell_type": "markdown",
   "id": "7a170b63",
   "metadata": {},
   "source": [
    "# Grid operation-based outage maintenance optimization challange\n",
    "ROADEF/EURO and RTE, the electricity transmission system operator of France, issued in 2020 a public challange to optimise the grid operation-based outage maintenance planning. They provided either the problem definition and some data sets representing different problem instances. This is a perfect situation to test also Quantum Optimisation Algortihms on a real use case publicly discussed.\n",
    "\n",
    "## Problem definition (short summary form [challenge specifications](https://github.com/rte-france/challenge-roadef-2020/raw/master/Challenge_Subject.pdf))\n",
    "\n",
    "> Guaranteeing both electricity delivery and supply is one of the most important mission of a transmission system operator such as RTE. But such an objective can be carried out only if the grid is correctly maintained. In particular, some maintenance operations on the overhead power lines are live-line works while others require to shut the power down. When this happens, both electricity delivery and supply have to be guaranteed, meaning that maintenance operations have to be planned carefully. When there is not any maintenance operation, the network is resilient enough to endure an unexpected contingency. However, if several breakdowns occur, the grid might face major blackouts. In this context, planned outages due to maintenance work have to be scheduled with extreme caution.\n",
    ">\n",
    "> \\[...\\]\n",
    ">\n",
    "> RTE decided to implement a three-step approach. First, risk values corresponding to different future scenarios are computed. Second, these computed values are included in several optimisation approaches in order to find a good schedule. Eventually, a third step validates the obtained planning. This challenge focuses on the second step of this approach: given the risk values, the goal is to find an optimal planning regarding a risk-based objective. Moreover, this planning must be consistent with all job-related restrictions such as resource constraints.\n",
    "\n",
    "The planning is organized in time steps denoted by $ t \\in H=[1, \\dots, T] \\subset \\mathbb{N} $. A schedule is composed by the list of all given interventions $i \\in I$ with their starting time step $s_{i}$. Any task should be completed by the end of the planning time interval.\n",
    "\n",
    "To carry out the different interventions (task), resources with differenct specific skills $ c \\in C $ are required, with some constarints:\n",
    "- the available resources are always limited and therefore there is a maximum value $ rmax^{c,t} $ for resources with skill $c$ that cannot be exceeded at time $t$\n",
    "- for operational reasons, there is also a lower bound $ rmin^{c,t} $  on the resources consumption in order to prevent workforce from not being used at all\n",
    "\n",
    "Any intervention $i$ has:\n",
    "- a duration $ d_{i,s} $ (expressed in time steps) that depends on the starting time step $s$ of the intervention $i$\n",
    "- a resource workload $ wl^{c,t}_{i,s}$ that represents the fraction number of resources with skill $c$ needed at time step $t$ if the intervention $i$ starts a time $s$\n",
    "- a risk value $ rk^{r,t}_{i,s}$ that represents the risk at time $t$ in the risk scenario $r$ related to the intervention $i$ starting at time $s$; a different number $ R_{t}$ of risk scenarios may be defined for any time step $t$\n",
    "\n",
    "There are some couples $(i,j)$ of interventions that cannot be performed jointly in specific time periods; a list $E$ of these exclusions $(i,j,t) \\in I \\times I \\times H$ is also provided.\n",
    "\n",
    "The main goal is to minimize the avarage risk of the schedule, defined as $ \\frac{1}{T}\\sum_{t}{\\frac{1}{R_{t}}\\sum_{r}{risk^{r,t}}} $ where $ risk^{r,t} $ is the total risk value related to the running interventions at time $t$ in the risk scenario $r$.\n",
    "\n",
    "## Problem instances\n",
    "\n",
    "Many datasets have been provided by RTE in the form of JSON files that includes:\n",
    "- Resources with upper and lower bounds\n",
    "- Sesons with time steps\n",
    "- Interventions\n",
    "  - Duration and latest valid starting time step \n",
    "  - Workload for required resources\n",
    "  - Risk values\n",
    "- Exclusions"
   ]
  },
  {
   "cell_type": "code",
   "execution_count": 27,
   "id": "b9a8399a",
   "metadata": {},
   "outputs": [
    {
     "name": "stdout",
     "output_type": "stream",
     "text": [
      "Reading file '.\\data\\C_10.json'\n"
     ]
    }
   ],
   "source": [
    "# Import input data file\n",
    "\n",
    "import logging\n",
    "import json\n",
    "import numpy as np\n",
    "import sys\n",
    "\n",
    "input_file =  '.\\data\\C_10.json' # 'example1.json'  #\n",
    "output_file = 'output.txt'\n",
    "\n",
    "# Set logger\n",
    "log = logging.getLogger()\n",
    "log.setLevel(logging.INFO)\n",
    "try: consoleHandler\n",
    "except NameError: \n",
    "    consoleHandler = logging.StreamHandler(sys.stdout)\n",
    "    log.addHandler(consoleHandler)\n",
    "\n",
    "# Open and parse JSON file\n",
    "log.info(f'Reading file \\'{input_file}\\'')\n",
    "f = open(input_file, 'r')\n",
    "data = json.load(f)\n",
    "f.close()"
   ]
  },
  {
   "cell_type": "code",
   "execution_count": 28,
   "id": "ea81acc8",
   "metadata": {},
   "outputs": [
    {
     "name": "stdout",
     "output_type": "stream",
     "text": [
      "Problem setting ...\n",
      "\tTime periods: 102\n",
      "\tInterventions: 522\n",
      "\tAverage max duration of interventions: 31\n",
      "\tResources: 9\n",
      "\tExlusions: 705\n",
      "\tMax risk scenarions per time period: 69\n",
      "\tRisk analysis: avarage risk is between 24986 and 34384\n",
      "\tMax objective function value: 168,423,231\n",
      "\tWorkload matrix size: 48,877,992\n",
      "\tRisk matrix size: 374,731,272\n"
     ]
    }
   ],
   "source": [
    "# Problem setting\n",
    "\n",
    "log.info(f'Problem setting ...')\n",
    "\n",
    "# Resources (C)\n",
    "res = {} # Resouce names --> c = 0..(C-1)\n",
    "rmax_c_t = [] # Max usage for resource c\n",
    "rmin_c_t = [] # Min usage for resource c\n",
    "for i,k in enumerate(data['Resources']):\n",
    "    res[k] = i\n",
    "    rmax_c_t += [data['Resources'][k]['max']]\n",
    "    rmin_c_t += [data['Resources'][k]['min']]\n",
    "C = len(res)\n",
    "\n",
    "def findResourceName(id) :\n",
    "    for k in res.keys() :\n",
    "        if res[k] == id : \n",
    "            return k\n",
    "    return None\n",
    "\n",
    "# Calendar (T)\n",
    "time = [] # Time periods t = 0..(T-1)\n",
    "for k in data['Seasons'].keys():\n",
    "    time += data['Seasons'][k]\n",
    "time = [int(time[i]) for i in range(len(time))]\n",
    "time.sort()\n",
    "T = len(time)\n",
    "\n",
    "# Interventions (I, S)\n",
    "intv = [] # Interventions' names --> i = 0..(I-1)\n",
    "d_i_s = [] # Duration of intervention i starting at time s\n",
    "smax_i = [] # Latest starting time for intervention i\n",
    "\n",
    "# Get only startable interventions\n",
    "for i,k in enumerate(data['Interventions']):\n",
    "    if int(data['Interventions'][k]['tmax']) <= T :\n",
    "        intv += [k]\n",
    "    else:\n",
    "        log.warning(f'Intervenion {k} cannot start in the time framework')\n",
    "\n",
    "# Get interventions data\n",
    "I = len(intv)\n",
    "wl_i_c_t_s = np.zeros((I, C, T, T), dtype=float) # Worklod of recource c for intervention i at time t when i started at time s\n",
    "rk_r_i_t_s = [] # Risk for scenario r for intervention i at time t when i started at time s\n",
    "R_t = np.zeros(T, dtype=int) # Risk scenarios at time t\n",
    "\n",
    "for i,k in enumerate(intv):\n",
    "    smax_i += [int(data['Interventions'][k]['tmax'])-1]\n",
    "    d_i_s += [[int(d) for d in data['Interventions'][k]['Delta']]]\n",
    "    # Workload\n",
    "    for r in data['Interventions'][k]['workload'].keys():\n",
    "        c = res[r]\n",
    "        for t in data['Interventions'][k]['workload'][r].keys():\n",
    "            for s in data['Interventions'][k]['workload'][r][t].keys():\n",
    "                wl_i_c_t_s[i][c][int(t)-1][int(s)-1]=data['Interventions'][k]['workload'][r][t][s]\n",
    "    # Risks\n",
    "    for t in data['Interventions'][k]['risk'].keys():\n",
    "        for s in data['Interventions'][k]['risk'][t].keys():\n",
    "            if R_t[int(t)-1] == 0 or R_t[int(t)-1] == len(data['Interventions'][k]['risk'][t][s]) :\n",
    "                R_t[int(t)-1] = len(data['Interventions'][k]['risk'][t][s])\n",
    "            else :\n",
    "                print(f'Warning at time {t} R_t not unique')\n",
    "            for r,v in enumerate(data['Interventions'][k]['risk'][t][s]):\n",
    "                if len(rk_r_i_t_s)-1 < r : \n",
    "                    rk_r_i_t_s +=[np.zeros((I, T, T), dtype=float)]\n",
    "                rk_r_i_t_s[r][i][int(t)-1][int(s)-1] = v\n",
    "\n",
    "dmax_i = [max(d_i_s[i]) for i in range(I)]\n",
    "\n",
    "def findInterventionByName(name) :\n",
    "    for i,n in enumerate(intv) :\n",
    "        if n == name : \n",
    "            return i\n",
    "    return -1\n",
    "\n",
    "\n",
    "def riskAnalysis() :\n",
    "    max_avg_risk=0\n",
    "    min_avg_risk=0\n",
    "    max_obj=0\n",
    "    for i in range(I):\n",
    "        r_s = []\n",
    "        for s in range(smax_i[i]+1):\n",
    "            risk = 0\n",
    "            for t in range(s,min(s+d_i_s[i][s]+1, T)):\n",
    "                for r in range(R_t[t]):\n",
    "                    risk += rk_r_i_t_s[r][i][t][s]/R_t[t]\n",
    "            r_s+=[risk]     \n",
    "        max_avg_risk += max(r_s)/T\n",
    "        min_avg_risk += min(r_s)/T\n",
    "        max_obj += sum(r_s)\n",
    "    return {\"max_avg_risk\": max_avg_risk, \"min_avg_risk\": min_avg_risk, \"max_obj\": max_obj}\n",
    "\n",
    "ra = riskAnalysis()\n",
    "\n",
    "# Exclusions\n",
    "exc_e = []\n",
    "for e,k in enumerate(data['Exclusions']):\n",
    "    int_i = data['Exclusions'][k][0]\n",
    "    int_j = data['Exclusions'][k][1]\n",
    "    exc_t = data['Seasons'][data['Exclusions'][k][2]]\n",
    "    if len(exc_t) > 0 :\n",
    "        exc_e += [{'e':k, 'i':findInterventionByName(int_i), 'j':findInterventionByName(int_j), 't': [int(t)-1 for t in exc_t] }]\n",
    "E = len(exc_e) \n",
    "\n",
    "log.info(f'\\tTime periods: {T}')\n",
    "log.info(f'\\tInterventions: {I}')\n",
    "log.info(f'\\tAverage max duration of interventions: {round(np.mean([max(d_i_s[i]) for i in range(I)]))}')\n",
    "log.info(f'\\tResources: {C}')\n",
    "log.info(f'\\tExlusions: {E}')\n",
    "log.info(f'\\tMax risk scenarions per time period: {max(R_t)}')\n",
    "log.info(f'\\tRisk analysis: avarage risk is between {round(ra[\"min_avg_risk\"])} and {round(ra[\"max_avg_risk\"])}')\n",
    "log.info(f'\\tMax objective function value: {round(ra[\"max_obj\"]):,}')\n",
    "log.info(f'\\tWorkload matrix size: {I*C*T*T:,}')\n",
    "log.info(f'\\tRisk matrix size: {max(R_t)*I*T*T:,}')"
   ]
  },
  {
   "cell_type": "markdown",
   "id": "c392e43a",
   "metadata": {},
   "source": [
    "## Model definition\n",
    "\n",
    "The problem has been represented as a Constrained Quadratic Model with binary viariables:\n",
    "\n",
    "$$ \\forall i \\in I, \\forall s \\in H_i \\qquad x_{i,s}=\\begin{cases} 1 & \\text{Intervention } i \\text{ starts at time } s \\\\ 0 & \\text{Otherwise} \\end{cases} \\quad \\text{where} \\quad H_i = \\{ s \\in H \\, | \\, s+d_{i,s} \\leq T \\}  $$\n",
    "\n",
    "The objective function is defined as:\n",
    "\n",
    "$$  \\frac{1}{T}\\sum_{t}{\\frac{1}{R_{t}}\\sum_{r}{\\sum_{i}{\\sum_{s}{rk^{r,t}_{i,s}x_{i,s}}}}}  $$\n",
    "\n",
    "The following constraints must hold:\n",
    "\n",
    "- Every task starts exactly once \n",
    "\n",
    "$$ \\forall i \\in I \\qquad \\sum_{s}{x_{i,s}} = 1 $$\n",
    "\n",
    "- Resources' usage is in the specified range\n",
    "\n",
    "$$ \\forall c \\in C, \\forall t \\in H \\qquad rmin^{c,t} \\leq \\sum_{i}{\\sum_{s}{wl^{c,t}_{i,s} x_{i,s}}} \\leq rmax^{c,t} $$ \n",
    "\n",
    "- The default exclusions are respected (quadratic formulation of the constraint)\n",
    "\n",
    "$$ \\forall (i,j,t) \\in E \\qquad \\sum_{s_i \\in S^t_i}{\\sum_{s_j \\in S^t_j}{x_{i,s_i}x_{j,s_j}}} = 0 \\; \\text{ where } \\; S^t_i = \\{ s \\in H \\,|\\, s \\leq t \\leq s+d_{i,s} \\} $$\n",
    "\n",
    "- The default exclusions are respected (alternative linear formulation)\n",
    "\n",
    "$$ \\forall (i,j,t) \\in E, \\forall s_i \\in S^t_i, \\forall s_j \\in S^t_j \\qquad x_{i,s_i}+x_{j,s_j} \\leq 1 $$"
   ]
  },
  {
   "cell_type": "code",
   "execution_count": 29,
   "id": "ac340530",
   "metadata": {},
   "outputs": [
    {
     "name": "stdout",
     "output_type": "stream",
     "text": [
      "Creating model ...\n",
      "\tVariables: 41087\n"
     ]
    }
   ],
   "source": [
    "# Create Model\n",
    "\n",
    "from dimod import Binary, BinaryQuadraticModel, ConstrainedQuadraticModel \n",
    "\n",
    "# Model\n",
    "log.info(f'Creating model ...')\n",
    "qm = ConstrainedQuadraticModel()\n",
    "\n",
    "# Model variables\n",
    "x_i_s = [[Binary(f'x_{i}_{s}') for s in range(smax_i[i]+1)] for i in range(I)]\n",
    "\n",
    "log.info(f'\\tVariables: {len([x_i_s[i][s] for i in range(I) for s in range(smax_i[i]+1) ])}')"
   ]
  },
  {
   "cell_type": "code",
   "execution_count": 30,
   "id": "9c8598f6",
   "metadata": {},
   "outputs": [
    {
     "name": "stdout",
     "output_type": "stream",
     "text": [
      "\tConstraints \"Interventions are scheduled once\": 522\n"
     ]
    }
   ],
   "source": [
    "# Constraints\n",
    "LM = 1\n",
    "\n",
    "# All interventions is executed one and only one time (4.1.2)\n",
    "constraints_412 = 0\n",
    "for i in range(I):\n",
    "    qm.add_constraint(sum([LM*x_i_s[i][s] for s in range(0,smax_i[i]+1)]) == 1*LM, label=f'Task_{intv[i]}_starts_exactly_once', weight = None)\n",
    "    constraints_412 += 1\n",
    "\n",
    "log.info(f'\\tConstraints \"Interventions are scheduled once\": {constraints_412}')"
   ]
  },
  {
   "cell_type": "code",
   "execution_count": 31,
   "id": "4325f3f7",
   "metadata": {},
   "outputs": [
    {
     "name": "stdout",
     "output_type": "stream",
     "text": [
      "\tConstraints \"Resource usage\": 889\n"
     ]
    }
   ],
   "source": [
    "# Resource usage constraints (4.1.3)\n",
    "constraints_42 = 0\n",
    "LM = 1\n",
    "\n",
    "for c in range(C):\n",
    "    for t in range(T):\n",
    "        cons = [x_i_s[i][s]*wl_i_c_t_s[i][c][t][s]*LM for i in range(I) for s in range(0,min(t,smax_i[i])+1) if wl_i_c_t_s[i][c][t][s]>0 ] # and s <= t and s+d_i_s[i][s]-1 >= t\n",
    "        if len(cons) != 0:\n",
    "            if rmin_c_t[c][t] > 0 : \n",
    "                qm.add_constraint(sum(cons) >= rmin_c_t[c][t]*LM, label=f'No_underun_for_{findResourceName(c)}_at_{time[t]}')\n",
    "                constraints_42 += 1\n",
    "            if sum([wl_i_c_t_s[i][c][t][s] for i in range(I) for s in range(0,min(t,smax_i[i])+1)]) > rmax_c_t[c][t] :\n",
    "                qm.add_constraint(sum(cons) <= rmax_c_t[c][t]*LM, label=f'No_overrun_for_{findResourceName(c)}_at_{time[t]}')\n",
    "                constraints_42 += 1\n",
    "        else:\n",
    "            if rmin_c_t[c][t] > 0 : print(f'WARNING: No possible workload at time {time[t]} for resource {findResourceName(c)}')\n",
    "\n",
    "log.info(f'\\tConstraints \"Resource usage\": {constraints_42}')  \n"
   ]
  },
  {
   "cell_type": "code",
   "execution_count": 32,
   "id": "dae93948",
   "metadata": {},
   "outputs": [
    {
     "name": "stdout",
     "output_type": "stream",
     "text": [
      "\tQuadratic constraints \"Exclusions\": 705\n"
     ]
    }
   ],
   "source": [
    "# Exclusions (quadratic constraint)\n",
    "\n",
    "constraints_43 = 0\n",
    "LM = 1\n",
    "\n",
    "for e in exc_e:\n",
    "    prod = []\n",
    "    for t in e['t']:\n",
    "        for si in range(max(0,t-dmax_i[e['i']]), min(t, smax_i[e['i']])+1):\n",
    "            if si+d_i_s[e['i']][si]-1 >= t :\n",
    "                for sj in range(max(0,t-dmax_i[e['j']]), min(t, smax_i[e['j']])+1):\n",
    "                    if sj+d_i_s[e['j']][sj]-1 >= t :\n",
    "                        if not [si, sj] in prod:\n",
    "                            prod += [[si, sj]]\n",
    "    cons = [LM*x_i_s[e['i']][p[0]]*x_i_s[e['j']][p[1]] for p in prod]\n",
    "    qm.add_constraint(sum(cons) == 0, label=f\"Exclusion_{e['e']}_{intv[e['i']]}_and_{intv[e['j']]}\")\n",
    "    constraints_43 += 1\n",
    "    \n",
    "log.info(f'\\tQuadratic constraints \"Exclusions\": {constraints_43}') "
   ]
  },
  {
   "cell_type": "code",
   "execution_count": 33,
   "id": "af210a1a",
   "metadata": {},
   "outputs": [
    {
     "name": "stdout",
     "output_type": "stream",
     "text": [
      "\tLinear constraints \"Exclusions\": 0\n"
     ]
    }
   ],
   "source": [
    "# Exclusions (linear constraint)\n",
    "\n",
    "constraints_43 = 0\n",
    "LM = 1\n",
    "\n",
    "for e in []: # not used\n",
    "    prod = []\n",
    "    for t in e['t']:\n",
    "        for si in range(max(0,t-dmax_i[e['i']]), min(t, smax_i[e['i']])+1):\n",
    "            if si+d_i_s[e['i']][si]-1 >= t :\n",
    "                for sj in range(max(0,t-dmax_i[e['j']]), min(t, smax_i[e['j']])+1):\n",
    "                    if sj+d_i_s[e['j']][sj]-1 >= t :\n",
    "                        if not [si, sj] in prod:\n",
    "                            prod += [[si, sj]]\n",
    "    for p in prod:\n",
    "        qm.add_constraint(LM*(x_i_s[e['i']][p[0]]+x_i_s[e['j']][p[1]]) <= LM, label=f\"Exclusion_{e['e']}_{intv[e['i']]}_starts_at_{time[p[0]]}_and_{intv[e['j']]}_sj={time[p[1]]}\")\n",
    "        constraints_43 += 1\n",
    "    \n",
    "log.info(f'\\tLinear constraints \"Exclusions\": {constraints_43}')     "
   ]
  },
  {
   "cell_type": "code",
   "execution_count": 34,
   "id": "4ba47ec9",
   "metadata": {},
   "outputs": [
    {
     "name": "stdout",
     "output_type": "stream",
     "text": [
      "\tObjective function \"Avarage risk\" terms: 41087\n"
     ]
    }
   ],
   "source": [
    "# Objective function\n",
    "\n",
    "avgrisk = []\n",
    "for i in range(I):\n",
    "    for s in range(smax_i[i]+1):\n",
    "        r_i_s = 0\n",
    "        for t in range(s,min(s+d_i_s[i][s]+1, T)):\n",
    "            for r in range(R_t[t]):\n",
    "                r_i_s += rk_r_i_t_s[r][i][t][s]/R_t[t]\n",
    "        if r_i_s > 0:\n",
    "            avgrisk += [r_i_s*x_i_s[i][s]]\n",
    "    \n",
    "qm.set_objective(sum(avgrisk))\n",
    "\n",
    "log.info(f'\\tObjective function \"Avarage risk\" terms: {len(avgrisk)}')"
   ]
  },
  {
   "cell_type": "code",
   "execution_count": 35,
   "id": "93f4387b",
   "metadata": {},
   "outputs": [
    {
     "name": "stderr",
     "output_type": "stream",
     "text": [
      "2022-12-31 00:41:24,622 dwave.cloud.client.base INFO MainThread Using region metadata: [Region(code='na-west-1', name='North America', endpoint='https://na-west-1.cloud.dwavesys.com/sapi/v2/'), Region(code='eu-central-1', name='Europe', endpoint='https://eu-central-1.cloud.dwavesys.com/sapi/v2/')]\n"
     ]
    },
    {
     "name": "stdout",
     "output_type": "stream",
     "text": [
      "Using region metadata: [Region(code='na-west-1', name='North America', endpoint='https://na-west-1.cloud.dwavesys.com/sapi/v2/'), Region(code='eu-central-1', name='Europe', endpoint='https://eu-central-1.cloud.dwavesys.com/sapi/v2/')]\n"
     ]
    },
    {
     "name": "stderr",
     "output_type": "stream",
     "text": [
      "2022-12-31 00:41:24,636 dwave.cloud.client.base INFO MainThread Requested a solver that best matches feature filters={}\n"
     ]
    },
    {
     "name": "stdout",
     "output_type": "stream",
     "text": [
      "Requested a solver that best matches feature filters={}\n"
     ]
    },
    {
     "name": "stderr",
     "output_type": "stream",
     "text": [
      "2022-12-31 00:41:24,638 dwave.cloud.client.base INFO MainThread Fetching solvers according to filters={'supported_problem_types__contains': 'cqm'}, order_by='-properties.version'\n"
     ]
    },
    {
     "name": "stdout",
     "output_type": "stream",
     "text": [
      "Fetching solvers according to filters={'supported_problem_types__contains': 'cqm'}, order_by='-properties.version'\n"
     ]
    },
    {
     "name": "stderr",
     "output_type": "stream",
     "text": [
      "2022-12-31 00:41:24,640 dwave.cloud.client.base INFO MainThread Fetching definitions of all available solvers\n"
     ]
    },
    {
     "name": "stdout",
     "output_type": "stream",
     "text": [
      "Fetching definitions of all available solvers\n"
     ]
    },
    {
     "name": "stderr",
     "output_type": "stream",
     "text": [
      "2022-12-31 00:41:28,734 dwave.cloud.client.base INFO MainThread Received solver data for 7 solver(s).\n"
     ]
    },
    {
     "name": "stdout",
     "output_type": "stream",
     "text": [
      "Received solver data for 7 solver(s).\n"
     ]
    },
    {
     "name": "stderr",
     "output_type": "stream",
     "text": [
      "2022-12-31 00:41:28,744 dwave.cloud.client.base INFO MainThread Adding solver BQMSolver(id='hybrid_binary_quadratic_model_version2')\n"
     ]
    },
    {
     "name": "stdout",
     "output_type": "stream",
     "text": [
      "Adding solver BQMSolver(id='hybrid_binary_quadratic_model_version2')\n"
     ]
    },
    {
     "name": "stderr",
     "output_type": "stream",
     "text": [
      "2022-12-31 00:41:28,746 dwave.cloud.client.base INFO MainThread Adding solver DQMSolver(id='hybrid_discrete_quadratic_model_version1')\n"
     ]
    },
    {
     "name": "stdout",
     "output_type": "stream",
     "text": [
      "Adding solver DQMSolver(id='hybrid_discrete_quadratic_model_version1')\n"
     ]
    },
    {
     "name": "stderr",
     "output_type": "stream",
     "text": [
      "2022-12-31 00:41:28,828 dwave.cloud.client.base INFO MainThread Adding solver CQMSolver(id='hybrid_constrained_quadratic_model_version1')\n"
     ]
    },
    {
     "name": "stdout",
     "output_type": "stream",
     "text": [
      "Adding solver CQMSolver(id='hybrid_constrained_quadratic_model_version1')\n"
     ]
    },
    {
     "name": "stderr",
     "output_type": "stream",
     "text": [
      "2022-12-31 00:41:28,914 dwave.cloud.client.base INFO MainThread Filtered solvers=[CQMSolver(id='hybrid_constrained_quadratic_model_version1')]\n"
     ]
    },
    {
     "name": "stdout",
     "output_type": "stream",
     "text": [
      "Filtered solvers=[CQMSolver(id='hybrid_constrained_quadratic_model_version1')]\n",
      "Start sampling ... \n",
      "\tMinimum time limit 18.71082593680027\n",
      "\tUsed time limit 200\n"
     ]
    }
   ],
   "source": [
    "from dwave.system import LeapHybridCQMSampler \n",
    "\n",
    "sampler = LeapHybridCQMSampler()\n",
    "mtl = sampler.min_time_limit(qm)\n",
    "time_limit = max(200, mtl)\n",
    "\n",
    "log.info(f'Start sampling ... ')\n",
    "log.info(f'\\tMinimum time limit {mtl}')\n",
    "log.info(f'\\tUsed time limit {time_limit}')"
   ]
  },
  {
   "cell_type": "code",
   "execution_count": 36,
   "id": "664879de",
   "metadata": {},
   "outputs": [
    {
     "name": "stdout",
     "output_type": "stream",
     "text": [
      "Results\n",
      "\tSamples: 103\n",
      "\tFeasible samples: 14\n"
     ]
    }
   ],
   "source": [
    "sampleset = sampler.sample_cqm(qm, time_limit=time_limit, label='ROADEF2020-QIO')\n",
    "feasible_sampleset = sampleset.filter(lambda d: d.is_feasible)\n",
    "\n",
    "log.info(f'Results')\n",
    "log.info(f'\\tSamples: {len(sampleset)}')\n",
    "log.info(f'\\tFeasible samples: {len(feasible_sampleset)}')"
   ]
  },
  {
   "cell_type": "code",
   "execution_count": 37,
   "id": "dd968308",
   "metadata": {
    "scrolled": false
   },
   "outputs": [
    {
     "name": "stdout",
     "output_type": "stream",
     "text": [
      "Sampled solution wrote in output.txt\n"
     ]
    }
   ],
   "source": [
    "# Prepare result output\n",
    "\n",
    "output = []\n",
    "result = feasible_sampleset.first.sample if len(feasible_sampleset) > 0 else sampleset.first.sample\n",
    "for i in range(I):\n",
    "    for s in range(smax_i[i]+1):\n",
    "        if result[f'x_{i}_{s}'] == 1 :\n",
    "            output += [f'{intv[i]} {time[s]}']\n",
    "\n",
    "if output_file != None :\n",
    "    f = open(output_file, 'w')\n",
    "    f.writelines([f'{o}\\n' for o in output])\n",
    "    f.close()\n",
    "    log.info(f'Sampled solution wrote in {output_file}')\n",
    "else:\n",
    "    log.info(f'Sampled solution:')\n",
    "    for o in output:\n",
    "        log.info(o)\n"
   ]
  },
  {
   "cell_type": "code",
   "execution_count": 38,
   "id": "46905401",
   "metadata": {},
   "outputs": [
    {
     "name": "stdout",
     "output_type": "stream",
     "text": [
      "Violations:\n"
     ]
    }
   ],
   "source": [
    "# Check violated constraints\n",
    "\n",
    "thold = 1e-5\n",
    "\n",
    "log.info(f'Violations:')\n",
    "\n",
    "violations = qm.violations(result)\n",
    "for i,k in enumerate(violations):\n",
    "    if violations[k] > thold : log.info(f'\\t{i} - {k}')"
   ]
  },
  {
   "cell_type": "code",
   "execution_count": 39,
   "id": "7a15b67a",
   "metadata": {},
   "outputs": [
    {
     "name": "stdout",
     "output_type": "stream",
     "text": [
      "Avarage risk: 28644\n"
     ]
    }
   ],
   "source": [
    "# Calculate the final average risk\n",
    "\n",
    "riskfactors = []\n",
    "for i in range(I):\n",
    "    for s in range(smax_i[i]+1):\n",
    "        r_i_s = 0\n",
    "        for t in range(s,min(s+d_i_s[i][s]+1, T)):\n",
    "            for r in range(R_t[t]):\n",
    "                r_i_s += rk_r_i_t_s[r][i][t][s]/R_t[t]\n",
    "        riskfactors += [r_i_s*result[f'x_{i}_{s}']]\n",
    "\n",
    "log.info(f'Avarage risk: {round(sum(riskfactors)/T)}')\n"
   ]
  },
  {
   "cell_type": "code",
   "execution_count": null,
   "id": "39c7bc5d",
   "metadata": {},
   "outputs": [],
   "source": []
  }
 ],
 "metadata": {
  "hide_input": false,
  "kernelspec": {
   "display_name": "Python 3 (ipykernel)",
   "language": "python",
   "name": "python3"
  },
  "language_info": {
   "codemirror_mode": {
    "name": "ipython",
    "version": 3
   },
   "file_extension": ".py",
   "mimetype": "text/x-python",
   "name": "python",
   "nbconvert_exporter": "python",
   "pygments_lexer": "ipython3",
   "version": "3.10.6"
  }
 },
 "nbformat": 4,
 "nbformat_minor": 5
}
